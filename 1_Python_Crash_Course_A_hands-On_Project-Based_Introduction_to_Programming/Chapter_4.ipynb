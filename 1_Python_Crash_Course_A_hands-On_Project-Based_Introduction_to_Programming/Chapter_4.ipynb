{
 "cells": [
  {
   "cell_type": "markdown",
   "metadata": {},
   "source": [
    "# 第4章 操作列表"
   ]
  },
  {
   "cell_type": "markdown",
   "metadata": {},
   "source": [
    "## 4.1遍历整个列表"
   ]
  },
  {
   "cell_type": "code",
   "execution_count": null,
   "metadata": {},
   "outputs": [],
   "source": [
    "# 使用for循环打印魔术师名单中的名字\n",
    "magicaians = ['alice', 'david', 'carolina']\n",
    "for magician in magicaians:\n",
    "    print(magician)"
   ]
  },
  {
   "cell_type": "markdown",
   "metadata": {},
   "source": [
    "### 4.1.1深入地研究循环"
   ]
  },
  {
   "cell_type": "code",
   "execution_count": null,
   "metadata": {},
   "outputs": [],
   "source": [
    "# 使用循环时请牢记，对列表中的每个元素，都将执行循环指定的步骤，\n",
    "# 而不管列表包含多少个元素。\n",
    "\n",
    "# 另外，编写for循环时，对于用于存储列表中每个值的临时变量，可指\n",
    "# 定任何名称。然而，选择描述单个列表元素的有意义的名称大有帮助。\n",
    "for cat in cats:\n",
    "for dog in dogs:\n",
    "for item in list_of_items:"
   ]
  },
  {
   "cell_type": "markdown",
   "metadata": {},
   "source": [
    "### 4.1.2在for循环中执行更多的操作"
   ]
  },
  {
   "cell_type": "code",
   "execution_count": null,
   "metadata": {},
   "outputs": [],
   "source": [
    "# 在for循环中，可对每个元素执行任何操作。\n",
    "magicaians = ['alice', 'david', 'carolina']\n",
    "for magician in magicaians:\n",
    "    print(magician.title() + \", that was a great trick!\")"
   ]
  },
  {
   "cell_type": "code",
   "execution_count": null,
   "metadata": {},
   "outputs": [],
   "source": [
    "# 在for循环中，想包含多少行代码都可以。\n",
    "magicaians = ['alice', 'david', 'carolina']\n",
    "for magician in magicaians:\n",
    "    print(magician.title() + \", that was a great trick!\")\n",
    "    print(\"I can't wait to see your next trick, \" + magician.title() + \".\\n\")"
   ]
  },
  {
   "cell_type": "markdown",
   "metadata": {},
   "source": [
    "### 4.1.3在for循环结束后执行一些操作"
   ]
  },
  {
   "cell_type": "code",
   "execution_count": null,
   "metadata": {},
   "outputs": [],
   "source": [
    "# 在for循环后面，没有缩进的代码都只执行一次，而不会重复执行。\n",
    "magicaians = ['alice', 'david', 'carolina']\n",
    "for magician in magicaians:\n",
    "    print(magician.title() + \", that was a great trick!\")\n",
    "    print(\"I can't wait to see your next trick, \" + magician.title() + \".\\n\")\n",
    "\n",
    "    print(\"Thank you, everyone. That was a great magic show!\")"
   ]
  },
  {
   "cell_type": "markdown",
   "metadata": {},
   "source": [
    "## 4.2避免缩进错误"
   ]
  },
  {
   "cell_type": "code",
   "execution_count": null,
   "metadata": {},
   "outputs": [],
   "source": [
    "# Python根据缩进来判断代码行与前一个代码行的关系。Python通过使用\n",
    "# 缩进让代码更易读；简单地说，它要求你使用缩进让代码整洁而结构清\n",
    "# 晰。"
   ]
  },
  {
   "cell_type": "markdown",
   "metadata": {},
   "source": [
    "### 4.2.1忘记缩进"
   ]
  },
  {
   "cell_type": "code",
   "execution_count": null,
   "metadata": {},
   "outputs": [],
   "source": [
    "# 如果你忘记缩进，Python会提醒你。\n",
    "magicaians = ['alice', 'david', 'carolina']\n",
    "for magician in magicaians:\n",
    "print(magician)"
   ]
  },
  {
   "cell_type": "markdown",
   "metadata": {},
   "source": [
    "### 4.2.2忘记缩进额外的代码行"
   ]
  },
  {
   "cell_type": "code",
   "execution_count": null,
   "metadata": {},
   "outputs": [],
   "source": [
    "# 有时候，循环能够运行而不会报告错误，但结果可能会出乎意料。\n",
    "magicaians = ['alice', 'david', 'carolina']\n",
    "for magician in magicaians:\n",
    "    print(magician.title() + \", that was a great trick!\")\n",
    "print(\"I can't wait to see your next trick, \" + magician.title() + \".\\n\")  # 该行需要缩进"
   ]
  },
  {
   "cell_type": "markdown",
   "metadata": {},
   "source": [
    "### 4.2.3不必要的缩进"
   ]
  },
  {
   "cell_type": "code",
   "execution_count": null,
   "metadata": {},
   "outputs": [],
   "source": [
    "# Python提醒不必要的缩进\n",
    "message = \"Hello Python world!\"\n",
    "    print(message)"
   ]
  },
  {
   "cell_type": "markdown",
   "metadata": {},
   "source": [
    "### 4.2.4循环后不必要的缩进"
   ]
  },
  {
   "cell_type": "code",
   "execution_count": null,
   "metadata": {},
   "outputs": [],
   "source": [
    "# 如果你不小心缩进了应在循环结束后执行的代码，这些代码将针对每个\n",
    "# 列表元素重复执行。在有些情况下，这可能导致Python报告语法错误，\n",
    "# 但在大多数情况下，这只会导致逻辑错误。\n",
    "magicaians = ['alice', 'david', 'carolina']\n",
    "for magician in magicaians:\n",
    "    print(magician.title() + \", that was a great trick!\")\n",
    "    print(\"I can't wait to see your next trick, \" + magician.title() + \".\\n\")\n",
    "\n",
    "    print(\"Thank you, everyone. That was a great magic show!\") # 逻辑错误"
   ]
  },
  {
   "cell_type": "markdown",
   "metadata": {},
   "source": [
    "### 4.2.5遗漏了冒号"
   ]
  },
  {
   "cell_type": "code",
   "execution_count": null,
   "metadata": {},
   "outputs": [],
   "source": [
    "# for语句末尾的冒号告诉Python，下一行是循环的第一行\n",
    "magicaians = ['alice', 'david', 'carolina']\n",
    "for magician in magicaians\n",
    "    print(magician)"
   ]
  },
  {
   "cell_type": "markdown",
   "metadata": {},
   "source": [
    "## 4.3创建数字列表"
   ]
  },
  {
   "cell_type": "markdown",
   "metadata": {},
   "source": [
    "### 4.3.1使用函数range()"
   ]
  },
  {
   "cell_type": "code",
   "execution_count": null,
   "metadata": {},
   "outputs": [],
   "source": [
    "# Python函数range()让你能够轻松地生成一系列的数字。\n",
    "for value in range(1, 5):\n",
    "    print(value)  # 不会打印出数字5！！！"
   ]
  },
  {
   "cell_type": "code",
   "execution_count": null,
   "metadata": {},
   "outputs": [],
   "source": [
    "# 要打印出数字5\n",
    "for value in range(1, 6):\n",
    "    print(value)"
   ]
  },
  {
   "cell_type": "markdown",
   "metadata": {},
   "source": [
    "### 4.3.2使用range()创建数字列表"
   ]
  },
  {
   "cell_type": "code",
   "execution_count": null,
   "metadata": {},
   "outputs": [],
   "source": [
    "# 要创建数字列表，可使用函数list()将range()的结果直接转换为列表。\n",
    "# 如果将range()作为list()的参数，输出将为一个数字列表。\n",
    "numbers = list(range(1,6))\n",
    "print(numbers)"
   ]
  },
  {
   "cell_type": "code",
   "execution_count": null,
   "metadata": {},
   "outputs": [],
   "source": [
    "# 使用range()时，还可指定步长。\n",
    "# 打印1～10内的偶数：\n",
    "even_numbers = list(range(2, 11, 2))\n",
    "print(even_numbers)"
   ]
  },
  {
   "cell_type": "code",
   "execution_count": null,
   "metadata": {},
   "outputs": [],
   "source": [
    "# 创建一个列表，其中包含前10个整数（即1～10）的平方。\n",
    "squares = []\n",
    "for value in range(1, 11):\n",
    "    square = value ** 2\n",
    "    squares.append(square)\n",
    "\n",
    "print(squares)"
   ]
  },
  {
   "cell_type": "markdown",
   "metadata": {},
   "source": [
    "### 4.3.3对数字列表执行简单的统计计算"
   ]
  },
  {
   "cell_type": "code",
   "execution_count": null,
   "metadata": {},
   "outputs": [],
   "source": [
    "# 使用Python轻松地找到数字列表中的最大值、最小值和总和：\n",
    "digits = [1, 2, 3, 4, 5, 6, 7, 8, 9, 0]\n",
    "print(min(digits))  # 最小值\n",
    "print(max(digits))  # 最大值\n",
    "print(sum(digits))  # 总和"
   ]
  },
  {
   "cell_type": "markdown",
   "metadata": {},
   "source": [
    "### 4.3.4列表解析"
   ]
  },
  {
   "cell_type": "code",
   "execution_count": null,
   "metadata": {},
   "outputs": [],
   "source": [
    "# 使用列表解析创建前面看到的平方数列表\n",
    "squares = [value ** 2 for value in range(1, 11)]\n",
    "print(squares)"
   ]
  },
  {
   "cell_type": "markdown",
   "metadata": {},
   "source": [
    "## 4.4使用列表的一部分"
   ]
  },
  {
   "cell_type": "markdown",
   "metadata": {},
   "source": [
    "### 4.4.1切片"
   ]
  },
  {
   "cell_type": "code",
   "execution_count": null,
   "metadata": {},
   "outputs": [],
   "source": [
    "# 要创建切片，可指定要使用的第一个元素的索引和最后一个元素的索引加1。\n",
    "# 与函数range()一样，Python在到达你指定的第二个索引前面的元素后停止。\n",
    "# 要输出列表中的前三个元素，需要指定索引0～3，这将输出分别为0、1和2\n",
    "# 的元素。\n",
    "players = ['charles', 'martina', 'michael', 'florence', 'eli']\n",
    "print(players[0: 3])"
   ]
  },
  {
   "cell_type": "code",
   "execution_count": null,
   "metadata": {},
   "outputs": [],
   "source": [
    "# 要提取列表的第2～4个元素\n",
    "players = ['charles', 'martina', 'michael', 'florence', 'eli']\n",
    "print(players[1: 4])"
   ]
  },
  {
   "cell_type": "code",
   "execution_count": null,
   "metadata": {},
   "outputs": [],
   "source": [
    "# 如果没有指定起始索引，Python将自动从列表开头开始：\n",
    "players = ['charles', 'martina', 'michael', 'florence', 'eli']\n",
    "print(players[: 4])"
   ]
  },
  {
   "cell_type": "code",
   "execution_count": null,
   "metadata": {},
   "outputs": [],
   "source": [
    "# 要让切片终止与列表末尾，也可使用类似的语法。\n",
    "players = ['charles', 'martina', 'michael', 'florence', 'eli']\n",
    "print(players[2: ])"
   ]
  },
  {
   "cell_type": "code",
   "execution_count": null,
   "metadata": {},
   "outputs": [],
   "source": [
    "# 负索引返回离列表末尾相应距离的元素，因此可以输出列表末尾的任何切片。\n",
    "players = ['charles', 'martina', 'michael', 'florence', 'eli']\n",
    "print(players[-3: ])"
   ]
  },
  {
   "cell_type": "markdown",
   "metadata": {},
   "source": [
    "### 4.4.2遍历切片"
   ]
  },
  {
   "cell_type": "code",
   "execution_count": null,
   "metadata": {},
   "outputs": [],
   "source": [
    "# 如果要遍历列表的部分元素，可在for循环中使用切片。\n",
    "players = ['charles', 'martina', 'michael', 'florence', 'eli']\n",
    "\n",
    "print(\"Here are the first three players on my team:\")\n",
    "for player in players[: 3]:\n",
    "    print(player.title())"
   ]
  },
  {
   "cell_type": "markdown",
   "metadata": {},
   "source": [
    "### 4.4.3复制列表"
   ]
  },
  {
   "cell_type": "code",
   "execution_count": null,
   "metadata": {},
   "outputs": [],
   "source": [
    "# 要复制列表，可创建一个包含整个列表的切片，方法是同时省略起始索引和\n",
    "# 终止索引（[:]）。这让Python创建一个始于第一个元素，终止与最后一个\n",
    "# 元素的切片，即复制整个列表。\n",
    "my_foods = ['pizza','falafel', 'carrot cake']\n",
    "friend_foods = my_foods[:]\n",
    "\n",
    "print(\"My favorite foods are:\")\n",
    "print(my_foods)\n",
    "\n",
    "print(\"\\nMy friend's favorite foods are:\")\n",
    "print(friend_foods)"
   ]
  },
  {
   "cell_type": "code",
   "execution_count": null,
   "metadata": {},
   "outputs": [],
   "source": [
    "# 为核实我们确实有两个列表，下面在每个列表中都添加一种食品，并核实每\n",
    "# 个列表都记录了相应人员喜欢的食品。\n",
    "my_foods = ['pizza','falafel', 'carrot cake']\n",
    "friend_foods = my_foods[:]\n",
    "\n",
    "my_foods.append('cannoli')\n",
    "friend_foods.append('ice cream')\n",
    "\n",
    "print(\"My favorite foods are:\")\n",
    "print(my_foods)\n",
    "\n",
    "print(\"\\nMy friend's favorite foods are:\")\n",
    "print(friend_foods)"
   ]
  },
  {
   "cell_type": "code",
   "execution_count": null,
   "metadata": {},
   "outputs": [],
   "source": [
    "# 下例演示了在不使用切片的情况下复制列表的情况：\n",
    "my_foods = ['pizza','falafel', 'carrot cake']\n",
    "friend_foods = my_foods  # 这行不通，这会导致两个变量都指向同一个列表\n",
    "\n",
    "my_foods.append('cannoli')\n",
    "friend_foods.append('ice cream')\n",
    "\n",
    "print(\"My favorite foods are:\")\n",
    "print(my_foods)\n",
    "\n",
    "print(\"\\nMy friend's favorite foods are:\")\n",
    "print(friend_foods)"
   ]
  },
  {
   "cell_type": "markdown",
   "metadata": {},
   "source": [
    "## 4.5元组"
   ]
  },
  {
   "cell_type": "code",
   "execution_count": null,
   "metadata": {},
   "outputs": [],
   "source": [
    "# 列表非常适合用于存储在程序运行期间可能变化的数据集。列表是可以修改的，\n",
    "# 这对处理网站的用户列表时或游戏中的角色列表至关重要。然而，有时候你需\n",
    "# 要创建一系列不可修改的元素，元组可以满足这种需求。Python将不能修改的\n",
    "# 值称为不可变的，而不可变的列表被称为元组。"
   ]
  },
  {
   "cell_type": "markdown",
   "metadata": {},
   "source": [
    "### 4.5.1定义元组"
   ]
  },
  {
   "cell_type": "code",
   "execution_count": null,
   "metadata": {},
   "outputs": [],
   "source": [
    "# 元组看起来犹如列表，但使用圆括号而不是方括号来标识。定义元组后，就可\n",
    "# 以使用索引来访问其元素，就像访问列表元素一样。\n",
    "dimensions = (200, 50)\n",
    "print(dimensions[0])\n",
    "print(dimensions[1])"
   ]
  },
  {
   "cell_type": "code",
   "execution_count": null,
   "metadata": {},
   "outputs": [],
   "source": [
    "# 尝试修改元组dimension中的一个元素，看看结果如何\n",
    "dimensions = (200, 50)\n",
    "dimensions[0] = 250"
   ]
  },
  {
   "cell_type": "markdown",
   "metadata": {},
   "source": [
    "### 4.5.2遍历元组中的所有值"
   ]
  },
  {
   "cell_type": "code",
   "execution_count": null,
   "metadata": {},
   "outputs": [],
   "source": [
    "# 像列表一样，也可以使用for循环来遍历元组中的所有值。\n",
    "dimensions = (200, 50)\n",
    "for dimension in dimensions:\n",
    "    print(dimension)"
   ]
  },
  {
   "cell_type": "markdown",
   "metadata": {},
   "source": [
    "### 4.5.3修改元组变量"
   ]
  },
  {
   "cell_type": "code",
   "execution_count": null,
   "metadata": {},
   "outputs": [],
   "source": [
    "# 虽然不能修改元组的元素，但可以给存储元组的变量赋值。\n",
    "dimensions = (200, 50)\n",
    "print(\"Original dimensions:\")\n",
    "for dimension in dimensions:\n",
    "    print(dimension)\n",
    "    \n",
    "dimensions = (400, 100)\n",
    "print(\"\\nModified dimensions:\")\n",
    "for dimension in dimensions:\n",
    "    print(dimension)"
   ]
  },
  {
   "cell_type": "code",
   "execution_count": null,
   "metadata": {},
   "outputs": [],
   "source": [
    "# 备注：相比于列表，元组是更简单的数据结构。如果需要存储的一组值在程序\n",
    "# 的整个生命周期内都不变，可使用元组。"
   ]
  },
  {
   "cell_type": "markdown",
   "metadata": {},
   "source": [
    "## 4.6设置代码格式"
   ]
  },
  {
   "cell_type": "markdown",
   "metadata": {},
   "source": [
    "### 4.6.1格式设置指南"
   ]
  },
  {
   "cell_type": "code",
   "execution_count": null,
   "metadata": {},
   "outputs": [],
   "source": [
    "# Python格式设置指南的编写者深知i，代码被阅读的次数比编写的次数多。代码\n",
    "# 编写出来后，调试时你需要阅读它；给程序添加新功能时，需要花很长的时间\n",
    "# 阅读代码；与其他程序员分享代码时，这些程序员也将阅读他们。\n",
    "\n",
    "# 如果一定要在让代码易于编写和易于阅读之间做出选择，Python程序员几乎总是\n",
    "# 会选择后者。"
   ]
  },
  {
   "cell_type": "markdown",
   "metadata": {},
   "source": [
    "### 4.6.2缩进"
   ]
  },
  {
   "cell_type": "code",
   "execution_count": null,
   "metadata": {},
   "outputs": [],
   "source": [
    "# PEP8建议每级缩进都使用四个空格，这既可以提高可读性，又留下了足够的多级\n",
    "# 缩进空间。"
   ]
  },
  {
   "cell_type": "markdown",
   "metadata": {},
   "source": [
    "### 4.6.3行长"
   ]
  },
  {
   "cell_type": "code",
   "execution_count": null,
   "metadata": {},
   "outputs": [],
   "source": [
    "# 很多Python程序员都建议每行不超过80字符。"
   ]
  },
  {
   "cell_type": "markdown",
   "metadata": {},
   "source": [
    "### 4.6.4空行"
   ]
  },
  {
   "cell_type": "code",
   "execution_count": null,
   "metadata": {},
   "outputs": [],
   "source": [
    "# 要将程序的不同部分分开，可使用空行。你应该使用空行来组织程序文件，但也不\n",
    "# 能滥用。空行不会影响代码的运行，但会影响代码的可读性。Python解释器根据水\n",
    "# 平缩进情况来解读代码，但不关心垂直间距。"
   ]
  },
  {
   "cell_type": "markdown",
   "metadata": {},
   "source": [
    "### 4.6.5其他格式设置指南"
   ]
  },
  {
   "cell_type": "code",
   "execution_count": null,
   "metadata": {},
   "outputs": [],
   "source": [
    "# PEP8还有很多其他的格式设置建议，但这些指南针对的程序大都比目前为止本书提到\n",
    "# 的程序复杂。"
   ]
  }
 ],
 "metadata": {
  "kernelspec": {
   "display_name": "Python [conda env:root] *",
   "language": "python",
   "name": "conda-root-py"
  },
  "language_info": {
   "codemirror_mode": {
    "name": "ipython",
    "version": 3
   },
   "file_extension": ".py",
   "mimetype": "text/x-python",
   "name": "python",
   "nbconvert_exporter": "python",
   "pygments_lexer": "ipython3",
   "version": "3.7.4"
  }
 },
 "nbformat": 4,
 "nbformat_minor": 2
}

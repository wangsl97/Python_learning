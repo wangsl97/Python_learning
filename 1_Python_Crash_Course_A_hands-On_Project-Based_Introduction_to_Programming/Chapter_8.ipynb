{
 "cells": [
  {
   "cell_type": "markdown",
   "metadata": {},
   "source": [
    "# 第8章 函数"
   ]
  },
  {
   "cell_type": "markdown",
   "metadata": {},
   "source": [
    "## 8.1定义函数"
   ]
  },
  {
   "cell_type": "code",
   "execution_count": null,
   "metadata": {},
   "outputs": [],
   "source": [
    "# 一个打印问候语的简单函数\n",
    "def greet_user():\n",
    "    \"\"\"显示简单的问候语\"\"\"\n",
    "    print(\"Hello!\")\n",
    "\n",
    "greet_user()"
   ]
  },
  {
   "cell_type": "markdown",
   "metadata": {},
   "source": [
    "### 8.1.1向函数传递信息"
   ]
  },
  {
   "cell_type": "code",
   "execution_count": null,
   "metadata": {},
   "outputs": [],
   "source": [
    "def greet_user(username):\n",
    "    \"\"\"显示简单的问候语\"\"\"\n",
    "    print(\"Hello, \" + username.title() + \"!\")\n",
    "\n",
    "greet_user('jesse')"
   ]
  },
  {
   "cell_type": "markdown",
   "metadata": {},
   "source": [
    "### 8.1.2实参和形参"
   ]
  },
  {
   "cell_type": "code",
   "execution_count": null,
   "metadata": {},
   "outputs": [],
   "source": [
    "# 前面定义函数greet_user()时，要求给变量username指定一个值。调用这个函数提供的信息（人名）\n",
    "# 时，它将打印相应的问候语。\n",
    "# 在函数greet_user()的定义中，变量username是一个形参——函数完成其工作所需的一项信息。在代\n",
    "# 码greet_username('jesse')中，值'jesse'是一个实参。实参是调用函数时传递给函数的信息。我们\n",
    "# 调用函数时，将要让函数使用的信息放在括号内。在greet_user('jesse')中，将实参'jesse'传递给\n",
    "# 了函数greet_user()，这个值被存储在形参username中。"
   ]
  },
  {
   "cell_type": "markdown",
   "metadata": {},
   "source": [
    "## 8.2传递实参"
   ]
  },
  {
   "cell_type": "code",
   "execution_count": null,
   "metadata": {},
   "outputs": [],
   "source": [
    "# 鉴于函数定义中可能包含多个形参，因此函数调用中也可能包含多个实参，向函数传递实参的方式很\n",
    "# 多，可使用位置实参，这要求实参的顺序与形参的顺序相同；也可使用关键字实参，其中每个实参都\n",
    "# 由变量名和值组成；还可使用列表和字典。"
   ]
  },
  {
   "cell_type": "markdown",
   "metadata": {},
   "source": [
    "### 8.2.1位置实参"
   ]
  },
  {
   "cell_type": "code",
   "execution_count": null,
   "metadata": {},
   "outputs": [],
   "source": [
    "# 你调用函数时，Python必须将函数调用中的每个实参都关联到函数定义中的一个形参。为此，最简单\n",
    "# 的关联方式是基于实参的顺序。这种关联方式被称为位置实参。\n",
    "def describe_pet(animal_type, pet_name):\n",
    "    \"\"\"显示宠物的信息\"\"\"\n",
    "    print(\"\\nI have a \" + animal_type + \".\")\n",
    "    print(\"My \" + animal_type + \"'s name is \" + pet_name.title() + \".\")\n",
    "\n",
    "describe_pet('hamster', 'harry')"
   ]
  },
  {
   "cell_type": "code",
   "execution_count": null,
   "metadata": {},
   "outputs": [],
   "source": [
    "# 1、调用函数多次\n",
    "def describe_pet(animal_type, pet_name):\n",
    "    \"\"\"显示宠物的信息\"\"\"\n",
    "    print(\"\\nI have a \" + animal_type + \".\")\n",
    "    print(\"My \" + animal_type + \"'s name is \" + pet_name.title() + \".\")\n",
    "\n",
    "describe_pet('hamster', 'harry')\n",
    "describe_pet('dog', 'willie')"
   ]
  },
  {
   "cell_type": "code",
   "execution_count": null,
   "metadata": {},
   "outputs": [],
   "source": [
    "# 2、位置实参的顺序很重要\n",
    "def describe_pet(animal_type, pet_name):\n",
    "    \"\"\"显示宠物的信息\"\"\"\n",
    "    print(\"\\nI have a \" + animal_type + \".\")\n",
    "    print(\"My \" + animal_type + \"'s name is \" + pet_name.title() + \".\")\n",
    "\n",
    "describe_pet('harry', 'hamster')\n",
    "# 逻辑不正确，如果结果像上面一样搞笑，请确认函数调用中实参的顺序与函数定义中形参的顺序一致。"
   ]
  },
  {
   "cell_type": "markdown",
   "metadata": {},
   "source": [
    "### 8.2.2关键字实参"
   ]
  },
  {
   "cell_type": "code",
   "execution_count": null,
   "metadata": {},
   "outputs": [],
   "source": [
    "# 关键字实参 是传递给函数的名称-值对。你直接在实参中将名称和值关联起来了，因此向函数传递实\n",
    "# 参时不会混淆（不会得到名为Hamster的Harry这样的结果）。关键字实参让你无需考虑函数调用中的\n",
    "# 实参顺序，还清楚地指出了函数调用中各个值的用途。\n",
    "def describe_pet(animal_type, pet_name):\n",
    "    \"\"\"显示宠物的信息\"\"\"\n",
    "    print(\"\\nI have a \" + animal_type + \".\")\n",
    "    print(\"My \" + animal_type + \"'s name is \" + pet_name.title() + \".\")\n",
    "\n",
    "describe_pet(animal_type = 'harry', pet_name = 'hamster')\n",
    "# 注意：使用关键字实参时，务必准确地指定函数定义中的形参名。"
   ]
  },
  {
   "cell_type": "markdown",
   "metadata": {},
   "source": [
    "### 8.2.3默认值"
   ]
  },
  {
   "cell_type": "code",
   "execution_count": null,
   "metadata": {},
   "outputs": [],
   "source": [
    "# 编写函数时，可给每个形参指定默认值。在调用函数中给形参提供了实参时，Python将使用指定的实\n",
    "# 参值；否则，将使用形参的默认值。因此，给形参指定默认值后，可在函数调用中省略相应的实参。\n",
    "# 使用默认值可简化函数调用，还可清楚地指出函数的典型用法。\n",
    "def describe_pet(pet_name, animal_type = 'dog'):\n",
    "    \"\"\"显示宠物的信息\"\"\"\n",
    "    print(\"\\nI have a \" + animal_type + \".\")\n",
    "    print(\"My \" + animal_type + \"'s name is \" + pet_name.title() + \".\")\n",
    "\n",
    "describe_pet(pet_name = 'willie')"
   ]
  },
  {
   "cell_type": "markdown",
   "metadata": {},
   "source": [
    "### 8.2.4等效的函数调用"
   ]
  },
  {
   "cell_type": "code",
   "execution_count": null,
   "metadata": {},
   "outputs": [],
   "source": [
    "# 鉴于可混合使用位置形参、关键字实参和默认值，通常有多种等效的函数调用方式。\n",
    "def describe_pet(pet_name, animal_type = 'dog'):\n",
    "    \"\"\"显示宠物的信息\"\"\"\n",
    "    print(\"\\nI have a \" + animal_type + \".\")\n",
    "    print(\"My \" + animal_type + \"'s name is \" + pet_name.title() + \".\")\n",
    "\n",
    "# 一条名为Willie的小狗\n",
    "describe_pet('willie')\n",
    "describe_pet(pet_name = 'willie')\n",
    "\n",
    "# 一只名为Harry的仓鼠\n",
    "describe_pet('harry', 'hamster')\n",
    "describe_pet(pet_name = 'harry', animal_type = 'hamster')\n",
    "describe_pet(animal_type = 'hamster', pet_name = 'harry')"
   ]
  },
  {
   "cell_type": "markdown",
   "metadata": {},
   "source": [
    "### 8.2.5避免实参错误"
   ]
  },
  {
   "cell_type": "code",
   "execution_count": null,
   "metadata": {},
   "outputs": [],
   "source": [
    "# 等你开始使用函数后，如果遇到实参不匹配，不要大惊小怪。你提供的实参多于或少于函数完成其工\n",
    "# 作所需的信息时，将出现实参不匹配错误。例如，如果调用函数describe_pet()时没有指定任何实参，\n",
    "# 结果如何呢？\n",
    "def describe_pet(pet_name, animal_type = 'dog'):\n",
    "    \"\"\"显示宠物的信息\"\"\"\n",
    "    print(\"\\nI have a \" + animal_type + \".\")\n",
    "    print(\"My \" + animal_type + \"'s name is \" + pet_name.title() + \".\")\n",
    "    \n",
    "describe_pet()"
   ]
  },
  {
   "cell_type": "markdown",
   "metadata": {},
   "source": [
    "## 8.3返回值"
   ]
  },
  {
   "cell_type": "code",
   "execution_count": null,
   "metadata": {},
   "outputs": [],
   "source": [
    "# 函数并非总是直接显示输出，相反，它可以处理一些数据，并返回一个或一组值。函数返回的值被称为\n",
    "# 返回值。在函数中，可使用return语句将值返回到调用函数的代码行。返回值让你能够将程序的大部分\n",
    "# 繁重工作移到函数中去完成，从而简化主程序。"
   ]
  },
  {
   "cell_type": "markdown",
   "metadata": {},
   "source": [
    "### 8.3.1返回简单值"
   ]
  },
  {
   "cell_type": "code",
   "execution_count": null,
   "metadata": {},
   "outputs": [],
   "source": [
    "# 下面来看一个函数，它接受名和姓并返回整洁的姓名：\n",
    "def get_formatted_name(first_name, last_name):\n",
    "    \"\"\"返回整洁的姓名\"\"\"\n",
    "    full_name = first_name + ' ' + last_name\n",
    "    return full_name.title()\n",
    "\n",
    "musician = get_formatted_name('jimi', 'hendrix')\n",
    "print(musician)"
   ]
  },
  {
   "cell_type": "markdown",
   "metadata": {},
   "source": [
    "### 8.3.2让实参变成可选的"
   ]
  },
  {
   "cell_type": "code",
   "execution_count": null,
   "metadata": {},
   "outputs": [],
   "source": [
    "# 有时候，需要让实参变成可选的，这样使用函数的人就只需在必要时才提供额外的信息。可使用默认值\n",
    "# 来让实参变成可选的。\n",
    "def get_formatted_name(first_name, middle_name, last_name):\n",
    "    \"\"\"返回整洁的姓名\"\"\"\n",
    "    full_name = first_name + ' ' + middle_name + ' ' + last_name\n",
    "    return full_name.title()\n",
    "\n",
    "musician = get_formatted_name('john', 'lee', 'hooker')\n",
    "print(musician)"
   ]
  },
  {
   "cell_type": "code",
   "execution_count": null,
   "metadata": {},
   "outputs": [],
   "source": [
    "# 为让中间名变成可选的，可给形参middle_name指定一个默认值——空字符串，并在用户没有提供中间名\n",
    "# 时不使用这个形参。\n",
    "def get_formatted_name(first_name, last_name, middle_name = ''):\n",
    "    \"\"\"返回整洁的姓名\"\"\"\n",
    "    if middle_name :\n",
    "        full_name = first_name + ' ' + middle_name + ' ' + last_name\n",
    "    else:\n",
    "        full_name = first_name + ' ' + last_name\n",
    "    return full_name.title()\n",
    "\n",
    "musician = get_formatted_name('jimi', 'hendrix')\n",
    "print(musician)\n",
    "\n",
    "musician = get_formatted_name('john', 'lee', 'hooker')\n",
    "print(musician)"
   ]
  },
  {
   "cell_type": "markdown",
   "metadata": {},
   "source": [
    "### 8.3.3返回字典"
   ]
  },
  {
   "cell_type": "code",
   "execution_count": null,
   "metadata": {},
   "outputs": [],
   "source": [
    "# 函数可返回任何类型的值，包括列表和字典等较复杂的数据结构。\n",
    "def build_person(first_name, last_name):\n",
    "    \"\"\"返回一个字典，其中包含有关一个人的信息\"\"\"\n",
    "    person = {'first': first_name, 'last': last_name}\n",
    "    return person\n",
    "\n",
    "musician = build_person('jimi', 'hendrix')\n",
    "print(musician)"
   ]
  },
  {
   "cell_type": "code",
   "execution_count": null,
   "metadata": {},
   "outputs": [],
   "source": [
    "def build_person(first_name, last_name, age = ''):\n",
    "    \"\"\"返回一个字典，其中包含有关一个人的信息\"\"\"\n",
    "    person = {'first': first_name, 'last': last_name}\n",
    "    if age:\n",
    "        person['age'] = age\n",
    "    return person\n",
    "\n",
    "musician = build_person('jimi', 'hendrix', age = 27)\n",
    "print(musician)"
   ]
  },
  {
   "cell_type": "markdown",
   "metadata": {},
   "source": [
    "### 8.3.4结合使用函数和while循环"
   ]
  },
  {
   "cell_type": "code",
   "execution_count": null,
   "metadata": {},
   "outputs": [],
   "source": [
    "# 可将函数同本书前面介绍的任何Python结构结合起来使用\n",
    "def get_formatted_name(first_name, last_name):\n",
    "    \"\"\"返回整洁的姓名\"\"\"\n",
    "    full_name = first_name + ' ' + last_name\n",
    "    return full_name.title()\n",
    "\n",
    "# 这是一个无限循环！\n",
    "while True:\n",
    "    print(\"\\nPlease tell your name:\")\n",
    "    f_name = input(\"First name: \")\n",
    "    l_name = input(\"Last name: \")\n",
    "    \n",
    "    formatted_name = get_formatted_name(f_name, l_name)\n",
    "    print(\"\\nHello, \" + formatted_name + \"!\")"
   ]
  },
  {
   "cell_type": "code",
   "execution_count": null,
   "metadata": {},
   "outputs": [],
   "source": [
    "def get_formatted_name(first_name, last_name):\n",
    "    \"\"\"返回整洁的姓名\"\"\"\n",
    "    full_name = first_name + ' ' + last_name\n",
    "    return full_name.title()\n",
    "\n",
    "while True:\n",
    "    print(\"\\nPlease tell your name:\")\n",
    "    print(\"(enter 'q' at any time to quit)\")\n",
    "    \n",
    "    f_name = input(\"First name: \")\n",
    "    if f_name == 'q':\n",
    "        break\n",
    "    \n",
    "    l_name = input(\"Last name: \")\n",
    "    if l_name == 'q':\n",
    "        break\n",
    "    \n",
    "    formatted_name = get_formatted_name(f_name, l_name)\n",
    "    print(\"\\nHello, \" + formatted_name + \"!\")"
   ]
  },
  {
   "cell_type": "markdown",
   "metadata": {},
   "source": [
    "## 8.4传递列表"
   ]
  },
  {
   "cell_type": "code",
   "execution_count": null,
   "metadata": {},
   "outputs": [],
   "source": [
    "# 你经常会发现，向函数传递列表很有用，这种列表包含的可能是名字、数字或更复杂的对象（字典）。\n",
    "# 将列表传递给函数后，函数就能直接访问其内容。下面使用函数来提高处理列表的效率。\n",
    "def greet_users(names):\n",
    "    \"\"\"向列表中的每位用户都发出简单的问候\"\"\"\n",
    "    for name in names:\n",
    "        msg = \"Hello, \" + name.title() + \"!\"\n",
    "        print(msg)\n",
    "    \n",
    "usernames = ['hannah', 'try', 'margot']\n",
    "greet_users(usernames)"
   ]
  },
  {
   "cell_type": "markdown",
   "metadata": {},
   "source": [
    "### 8.4.1在函数中修改列表"
   ]
  },
  {
   "cell_type": "code",
   "execution_count": null,
   "metadata": {},
   "outputs": [],
   "source": [
    "# 将列表传递给函数后，函数就可对其进行修改。在函数中对这个列表所做的任何修改都是永久性的，这\n",
    "# 让你能够高效地处理大量的数据。\n",
    "# 首先创建一个列表，其中包含一些要打印的设计\n",
    "unprinted_designs = ['iphone case', 'robot pendant', 'dodecahedron']\n",
    "completed_models = []\n",
    "\n",
    "# 模拟打印每个设计，直到没有未打印的设计为止\n",
    "# 打印每个设计后，都将其移到列表completed_models中\n",
    "while unprinted_designs:\n",
    "    current_design = unprinted_designs.pop()\n",
    "    \n",
    "    # 模拟根据设计制作3D打印模型的过程\n",
    "    print(\"Printing model: \" + current_design)\n",
    "    completed_models.append(current_design)\n",
    "    \n",
    "# 显示打印好的所有模型\n",
    "print(\"\\nThe following models have been printed:\")\n",
    "for completed_model in completed_models:\n",
    "    print(completed_model)"
   ]
  },
  {
   "cell_type": "code",
   "execution_count": null,
   "metadata": {},
   "outputs": [],
   "source": [
    "# 为重新组织这些代码，我们可编写两个函数，每个都做一件具体的工作。\n",
    "def print_models(unprinted_designs, completed_models):\n",
    "    \"\"\"\n",
    "    模拟打印每个设计，直到没有未打印的设计为止\n",
    "    打印每个设计后，都将其移到列表completed_models中\n",
    "    \"\"\"\n",
    "    while unprinted_designs:\n",
    "        current_design = unprinted_designs.pop()\n",
    "\n",
    "        # 模拟根据设计制作3D打印模型的过程\n",
    "        print(\"Printing model: \" + current_design)\n",
    "        completed_models.append(current_design)\n",
    "\n",
    "def show_completed_models(completed_models):\n",
    "    \"\"\"显示打印好的所有模型\"\"\"\n",
    "    print(\"\\nThe following models have been printed:\")\n",
    "    for completed_model in completed_models:\n",
    "        print(completed_model)\n",
    "    \n",
    "unprinted_designs = ['iphone case', 'robot pendant', 'dodecahedron']\n",
    "completed_models = []\n",
    "\n",
    "print_models(unprinted_designs, completed_models)\n",
    "show_completed_models(completed_models)"
   ]
  },
  {
   "cell_type": "markdown",
   "metadata": {},
   "source": [
    "### 8.4.2禁止函数修改列表"
   ]
  },
  {
   "cell_type": "code",
   "execution_count": null,
   "metadata": {},
   "outputs": [],
   "source": [
    "# 有时候，需要禁止函数修改列表。为了解决这个问题，可向函数传递列表的副本而不是原件；这样函数\n",
    "# 所做的任何修改都只影响副本，而丝毫不影响原件。\n",
    "# 要将列表的副本传递给函数，可以像下面这样做：\n",
    "function_name(list_name[:])\n",
    "# 切片表示法[:]创建列表的副本。\n",
    "\n",
    "# 虽然向函数传递列表的副本可保留原始列表的内容，但除非有充分理由需要传递副本，否则还是应该将\n",
    "# 原始列表传递给函数，因为让函数使用现成列表可避免花时间和内存创建副本，从而提高效率，在处理\n",
    "# 大型列表时尤其如此。"
   ]
  },
  {
   "cell_type": "markdown",
   "metadata": {},
   "source": [
    "## 8.5传递任意数量的实参"
   ]
  },
  {
   "cell_type": "code",
   "execution_count": null,
   "metadata": {},
   "outputs": [],
   "source": [
    "# 有时候，你预先不知道函数需要接收多少个实参，好在Python允许函数从调用语句中收集任意数量的实参。\n",
    "def make_pizza(*toppings):\n",
    "    \"\"\"打印顾客点的所有配料\"\"\"\n",
    "    print(toppings)\n",
    "\n",
    "make_pizza('pepperoni')\n",
    "make_pizza('mushroom', 'green peppers', 'extra cheese')\n",
    "\n",
    "# 形参名*topping中的星号让Python创建一个名toppings的空元组，并将收到的所有值都封装到这个元组中。\n",
    "# 函数体内的prnit语句通过生成输出来证明Pyhthon能够处理使用一个值调用函数的情形，也能处理使用三\n",
    "# 个值来调用函数的情形。它以类似的方式处理不同的调用，注意，Python将实参封装到一个元组中，即便\n",
    "# 函数只收到一个值也如此。"
   ]
  },
  {
   "cell_type": "code",
   "execution_count": null,
   "metadata": {},
   "outputs": [],
   "source": [
    "def make_pizza(*toppings):\n",
    "    \"\"\"概述要制作的披萨\"\"\"\n",
    "    print(\"\\nMaking a pizza with the following toppings:\")\n",
    "    for topping in toppings:\n",
    "        print(\"- \" + topping)\n",
    "\n",
    "make_pizza('pepperoni')\n",
    "make_pizza('mushroom', 'green peppers', 'extra cheese')"
   ]
  },
  {
   "cell_type": "markdown",
   "metadata": {},
   "source": [
    "### 8.5.1结合使用位置实参和任意数量实参"
   ]
  },
  {
   "cell_type": "code",
   "execution_count": null,
   "metadata": {},
   "outputs": [],
   "source": [
    "# 如果要让函数接受不同类型的实参，必须在函数定义中将接纳任意数量实参的形参放在最后。Python先匹配\n",
    "# 位置实参和关键字实参，再将余下的实参都收集到最后一个形参中。\n",
    "def make_pizza(size, *toppings):\n",
    "    \"\"\"概述要制作的披萨\"\"\"\n",
    "    print(\"\\nMaking a \" + str(size) +\n",
    "         \"-inch pizza with the following toppings:\")\n",
    "    for topping in toppings:\n",
    "        print(\"- \" + topping)\n",
    "    \n",
    "make_pizza(16, 'pepperoni')\n",
    "make_pizza(12, 'mushroom', 'green peppers', 'extra cheese')"
   ]
  },
  {
   "cell_type": "markdown",
   "metadata": {},
   "source": [
    "### 8.5.2使用任意数量的关键字实参"
   ]
  },
  {
   "cell_type": "code",
   "execution_count": null,
   "metadata": {},
   "outputs": [],
   "source": [
    "# 有时候，需要接受任意数量的实参，但预先不知道传递给函数的会是什么样的信息。在这种情况下，可将函\n",
    "# 数编写成能够任意数量的键-值对——调用语句提供了多少就接受多少。\n",
    "def build_profile(first, last, **user_info):\n",
    "    \"\"\"创建一个字典，其中包含我们知道的有关用户的一切\"\"\"\n",
    "    profile = {}\n",
    "    profile['first_name'] = first\n",
    "    profile['last_name'] = last\n",
    "    for key,value in user_info.items():\n",
    "        profile[key] = value\n",
    "    return profile\n",
    "\n",
    "user_profile = build_profile('albert', 'einstein',\n",
    "                             location = 'princeton',\n",
    "                            field = 'physics')\n",
    "print(user_profile)"
   ]
  },
  {
   "cell_type": "markdown",
   "metadata": {},
   "source": [
    "## 8.6将函数存储在模块中"
   ]
  },
  {
   "cell_type": "code",
   "execution_count": null,
   "metadata": {},
   "outputs": [],
   "source": [
    "# 函数的优点之一，使用它们可将代码块与主程序分离。通过给函数指定描述性名称，可让主程序容易理解得多。\n",
    "# 你还可以进一步，将函数存储在被称为模块的独立文件中，再将模块导入到主程序中。import语句允许在当前\n",
    "# 运行的程序文件中使用模块中的代码。\n",
    "# 通过将函数存储在独立的文件中，可隐藏程序代码的细节，将重点放在程序的高级逻辑上。这还能让你在众多\n",
    "# 不同的程序中重用函数。将函数存储在独立文件中后，可与其他程序员共享这些文件而不是整个程序。知道如\n",
    "# 何导入函数还能让你使用其他程序员编写的函数库。"
   ]
  },
  {
   "cell_type": "markdown",
   "metadata": {},
   "source": [
    "### 8.6.1导入整个模块"
   ]
  },
  {
   "cell_type": "code",
   "execution_count": null,
   "metadata": {},
   "outputs": [],
   "source": [
    "# 要让函数是可导入的，得先创建模块。模块是扩展名为.py的文件，包含要导入到程序中的代码。\n",
    "# pizza.py\n",
    "def make_pizza(size, *toppings):\n",
    "    \"\"\"概述要制作的披萨\"\"\"\n",
    "    print(\"\\nMaking a \" + str(size) +\n",
    "         \"-inch pizza with the following toppings:\")\n",
    "    for topping in toppings:\n",
    "        print(\"- \" + topping)"
   ]
  },
  {
   "cell_type": "code",
   "execution_count": null,
   "metadata": {},
   "outputs": [],
   "source": [
    "# making_pizzas.py\n",
    "import pizza\n",
    "\n",
    "pizza.make_pizza(16, 'pepperoni')\n",
    "pizza.make_pizza(12, 'mushroom', 'green peppers', 'extra cheese')\n",
    "\n",
    "# 这就是一种导入方法：只需编写一条import语句并在其中指定模块名，就可在程序中使用该模块中的所有函数。\n",
    "# 如果你使用这种import语句导入了名为module_name.py的整个模块，就可使用下面的语法来使用其中任意一个\n",
    "# 函数：\n",
    "module_name.function_name()"
   ]
  },
  {
   "cell_type": "markdown",
   "metadata": {},
   "source": [
    "### 8.6.2导入特定的函数"
   ]
  },
  {
   "cell_type": "code",
   "execution_count": null,
   "metadata": {},
   "outputs": [],
   "source": [
    "# 你还可以导入模块中的特定函数，这种导入方法的语法如下：\n",
    "from module_name import  function_name"
   ]
  },
  {
   "cell_type": "code",
   "execution_count": null,
   "metadata": {},
   "outputs": [],
   "source": [
    "# 通过用逗号分隔函数名，可根据需要从模块中导入任意数量的函数\n",
    "from module_name import function_0, function_1, function_2"
   ]
  },
  {
   "cell_type": "markdown",
   "metadata": {},
   "source": [
    "### 8.6.3使用as给函数指定别名"
   ]
  },
  {
   "cell_type": "code",
   "execution_count": null,
   "metadata": {},
   "outputs": [],
   "source": [
    "# 如果要导入的函数的名称可能与程序中现有的名称冲突，或者函数的名称太长，可指定简短而独一无二的别名\n",
    "# ——函数的另一个名称，类似于外号。要给函数指定这种特殊外号，需要在导入它时这样做。\n",
    "from pizza import make_pizza as mp\n",
    "\n",
    "mp(16, 'pepperoni')\n",
    "mp(12, 'mushroom', 'green peppers', 'extra cheese')\n",
    "\n",
    "# 指定别名的通用语法如下：\n",
    "from module_name import function_name as fn"
   ]
  },
  {
   "cell_type": "markdown",
   "metadata": {},
   "source": [
    "### 8.6.4使用as给模块指定别名"
   ]
  },
  {
   "cell_type": "code",
   "execution_count": null,
   "metadata": {},
   "outputs": [],
   "source": [
    "# 你还可以给模块指定别名。通过给模块指定简短的别名，让你能够更轻松地调用模块中指定的函数。\n",
    "import pizza as p\n",
    "\n",
    "p.make_pizza(16, 'pepperoni')\n",
    "p.make_pizza(12, 'mushroom', 'green peppers', 'extra cheese')\n",
    "\n",
    "# 给模块指定别名的通用语法如下：\n",
    "import module_name as mn"
   ]
  },
  {
   "cell_type": "markdown",
   "metadata": {},
   "source": [
    "### 8.6.5导入模块中的所有函数"
   ]
  },
  {
   "cell_type": "code",
   "execution_count": null,
   "metadata": {},
   "outputs": [],
   "source": [
    "# 使用星号（*）运算符可让Python导入模块中的所有函数：\n",
    "from pizza import *\n",
    "\n",
    "make_pizza(16, 'pepperoni')\n",
    "make_pizza(12, 'mushroom', 'green peppers', 'extra cheese')\n",
    "\n",
    "from module import *"
   ]
  },
  {
   "cell_type": "markdown",
   "metadata": {},
   "source": [
    "## 8.7函数编写指南"
   ]
  },
  {
   "cell_type": "code",
   "execution_count": null,
   "metadata": {},
   "outputs": [],
   "source": [
    "# 编写函数时，需要牢记几个细节。应给函数指定描述性名称，且只在其中使用小写字母和小=下划线。\n",
    "# 描述性名称可帮助你和别人明白代码想要做什么。给模块命名时，也应遵循上述约定。\n",
    "# 每个函数都应包含简要地阐述其功能的注释，该注释应紧跟在函数定义后面，并采用文档字符串格式。\n",
    "# 文档良好的函数让其他程序员只需阅读文档字符串中的描述就能够使用它：他们完全可以相信代码如\n",
    "# 描述的那样运行；只要知道函数的名称、需要的实参以及返回值的类型，就能在自己的程序中使用它。"
   ]
  },
  {
   "cell_type": "code",
   "execution_count": null,
   "metadata": {},
   "outputs": [],
   "source": [
    "# 给形参指定默认值时，等号两边不要有空格\n",
    "def function_name(parameter_0, parameter_1='default value')"
   ]
  },
  {
   "cell_type": "code",
   "execution_count": null,
   "metadata": {},
   "outputs": [],
   "source": [
    "# 对于函数调用中的关键字实参，也应遵循这种约定\n",
    "function_name(value_0, parameter_1='value')"
   ]
  },
  {
   "cell_type": "code",
   "execution_count": null,
   "metadata": {},
   "outputs": [],
   "source": [
    "# 大多数编辑器都会自动对齐后续参数列表行，使其缩进程度与你给第一个参数列表行指定的缩进程度相\n",
    "# 同：\n",
    "def function_name(\n",
    "        parameter_0, parameter_1, parameter_2,\n",
    "        parameter_3, parameter_4, parameter_5):\n",
    "    function body..."
   ]
  },
  {
   "cell_type": "code",
   "execution_count": null,
   "metadata": {},
   "outputs": [],
   "source": [
    "# 如果程序或模块包含多个函数，可使用两个空行将相邻的函数分开，这样将更容易知道前一个函数在什\n",
    "# 么地方结束，下一个函数从什么地方开始。"
   ]
  },
  {
   "cell_type": "code",
   "execution_count": null,
   "metadata": {},
   "outputs": [],
   "source": [
    "# 所有的import语句都应放在文件开头，唯一例外的情形是，在文件开头使用了注释来描述整个程序。"
   ]
  }
 ],
 "metadata": {
  "kernelspec": {
   "display_name": "Python [conda env:root] *",
   "language": "python",
   "name": "conda-root-py"
  },
  "language_info": {
   "codemirror_mode": {
    "name": "ipython",
    "version": 3
   },
   "file_extension": ".py",
   "mimetype": "text/x-python",
   "name": "python",
   "nbconvert_exporter": "python",
   "pygments_lexer": "ipython3",
   "version": "3.7.4"
  }
 },
 "nbformat": 4,
 "nbformat_minor": 2
}

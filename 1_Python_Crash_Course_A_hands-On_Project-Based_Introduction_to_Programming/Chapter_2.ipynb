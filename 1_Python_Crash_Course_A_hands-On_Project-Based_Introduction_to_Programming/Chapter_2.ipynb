{
 "cells": [
  {
   "cell_type": "markdown",
   "metadata": {},
   "source": [
    "# 第2章 变量和简单数据类型"
   ]
  },
  {
   "cell_type": "markdown",
   "metadata": {},
   "source": [
    "## 2.1运行hello_world.py时发生的情况"
   ]
  },
  {
   "cell_type": "code",
   "execution_count": null,
   "metadata": {},
   "outputs": [],
   "source": [
    "print(\"Hello Python world!\")"
   ]
  },
  {
   "cell_type": "markdown",
   "metadata": {},
   "source": [
    "## 2.2变量"
   ]
  },
  {
   "cell_type": "code",
   "execution_count": null,
   "metadata": {},
   "outputs": [],
   "source": [
    "message = \"Hello Python World!\"\n",
    "print(message)\n",
    "\n",
    "# 程序中可随时修改变量的值，Python将始终记录变量的最新值\n",
    "message = \"Hello Python Crash Course world!\"\n",
    "print(message)"
   ]
  },
  {
   "cell_type": "markdown",
   "metadata": {},
   "source": [
    "### 2.2.1变量的命名与使用"
   ]
  },
  {
   "cell_type": "code",
   "execution_count": null,
   "metadata": {},
   "outputs": [],
   "source": [
    "# 1、变量名只能包含字母、数字和下划线。变量名可以字母或下划\n",
    "# 线打头，但不能以数字打头，例如，可将变量命名为message_1，\n",
    "# 但不能将其命名为1_message。\n",
    "\n",
    "# 2、变量名不能包含空格，但可使用下划线来分隔其中的单词。例\n",
    "# 如，变量名greeting_message可行，但变量名greeting message\n",
    "# 会引发错误。\n",
    "\n",
    "# 3、不要将Python关键字和函数名用作变量名，即不要使用Python\n",
    "# 保留用于特殊用途的单词，如print。\n",
    "\n",
    "# 4、变量名应既简短有具有描述性。例如，name比n好，student_name\n",
    "# 比s_n好，name_length比length_of_persons_name好。\n",
    "\n",
    "# 5、慎用小写字母l和大写字母O，因为它们可能被人错看成数字1和0。"
   ]
  },
  {
   "cell_type": "markdown",
   "metadata": {},
   "source": [
    "### 2.2.2使用变量时避免命名错误"
   ]
  },
  {
   "cell_type": "code",
   "execution_count": null,
   "metadata": {},
   "outputs": [],
   "source": [
    "message = \"Hello Python Crash Course reader!\"\n",
    "print(mesage)   # 错误写法，程序报错\n",
    "\n",
    "message = \"Hello Python Crash Course reader!\"\n",
    "print(message)  # 正确写法，正常输出"
   ]
  },
  {
   "cell_type": "markdown",
   "metadata": {},
   "source": [
    "## 2.3字符串"
   ]
  },
  {
   "cell_type": "markdown",
   "metadata": {},
   "source": [
    "### 2.3.1使用方法修改字符串的大小写"
   ]
  },
  {
   "cell_type": "code",
   "execution_count": null,
   "metadata": {},
   "outputs": [],
   "source": [
    "name = \"add lovelace\"\n",
    "print(name.title())\n",
    "print(name.upper())\n",
    "print(name.lower())"
   ]
  },
  {
   "cell_type": "markdown",
   "metadata": {},
   "source": [
    "### 2.3.2合并（拼接）字符串"
   ]
  },
  {
   "cell_type": "code",
   "execution_count": null,
   "metadata": {},
   "outputs": [],
   "source": [
    "first_name = \"ada\"\n",
    "last_name = \"lovelace\"\n",
    "full_name = first_name + \" \" + last_name\n",
    "\n",
    "print(full_name)\n",
    "\n",
    "print(\"Hello, \" + full_name.title() + \"!\")\n",
    "\n",
    "message = \"Hello, \" + full_name.title() + \"!\"\n",
    "print(message)"
   ]
  },
  {
   "cell_type": "markdown",
   "metadata": {},
   "source": [
    "### 2.3.3使用制表符或换行符来添加空白"
   ]
  },
  {
   "cell_type": "code",
   "execution_count": null,
   "metadata": {},
   "outputs": [],
   "source": [
    "print(\"\\tPython\")\n",
    "print(\"Languages:\\nPython\\nC\\nJavaScript\")\n",
    "print(\"Languages:\\n\\tPython\\n\\tC\\n\\tJavaScript\")"
   ]
  },
  {
   "cell_type": "markdown",
   "metadata": {},
   "source": [
    "### 2.3.4删除空白"
   ]
  },
  {
   "cell_type": "code",
   "execution_count": null,
   "metadata": {},
   "outputs": [],
   "source": [
    "favorite_language = 'Python '\n",
    "print(favorite_language)\n",
    "\n",
    "print(favorite_language.rstrip())  # 删除字符串末尾的空白\n",
    "print(favorite_language)           # 可以发现删除只是暂时的！\n",
    "\n",
    "favorite_language_2 = 'Python '\n",
    "favorite_language_2 = favorite_language_2.rstrip()\n",
    "print(favorite_language_2)         # 可以发现此时删除永久的！"
   ]
  },
  {
   "cell_type": "code",
   "execution_count": null,
   "metadata": {},
   "outputs": [],
   "source": [
    "favorite_language = ' python '\n",
    "print(favorite_language.rstrip())  # 只删除字符串末尾的空白\n",
    "print(favorite_language.lstrip())  # 只删除字符串开头的空白\n",
    "print(favorite_language.strip())   # 同时删除字符串中开头和末尾字符"
   ]
  },
  {
   "cell_type": "markdown",
   "metadata": {},
   "source": [
    "### 2.3.5使用字符串时避免语法错误——如何正确地使用单引号和双引号"
   ]
  },
  {
   "cell_type": "code",
   "execution_count": null,
   "metadata": {},
   "outputs": [],
   "source": [
    "# 成功识别\"'\"\n",
    "message = \"One of Python's strength is its diverse community.\"\n",
    "print(message)\n",
    "\n",
    "# 无法识别\"'\"，并报错\n",
    "message = 'One of Python's strength is its diverse community.'\n",
    "print(message)"
   ]
  },
  {
   "cell_type": "markdown",
   "metadata": {},
   "source": [
    "### 2.3.6Python2中的print语句"
   ]
  },
  {
   "cell_type": "code",
   "execution_count": null,
   "metadata": {},
   "outputs": [],
   "source": [
    "print \"Hello Python 2.7 World!\""
   ]
  },
  {
   "cell_type": "markdown",
   "metadata": {},
   "source": [
    "## 2.4数字"
   ]
  },
  {
   "cell_type": "markdown",
   "metadata": {},
   "source": [
    "### 2.4.1整数"
   ]
  },
  {
   "cell_type": "code",
   "execution_count": null,
   "metadata": {},
   "outputs": [],
   "source": [
    "print(2 + 3)  # 加法\n",
    "print(3 - 2)  # 减法\n",
    "print(2 * 3)  # 乘法\n",
    "print(3 / 2)  # 除法\n",
    "print(3 ** 2) # 乘方"
   ]
  },
  {
   "cell_type": "code",
   "execution_count": null,
   "metadata": {},
   "outputs": [],
   "source": [
    "# 运算优先级\n",
    "print(2 + 3 * 4)\n",
    "print((2 + 3) * 4)"
   ]
  },
  {
   "cell_type": "markdown",
   "metadata": {},
   "source": [
    "### 2.4.2浮点数"
   ]
  },
  {
   "cell_type": "code",
   "execution_count": null,
   "metadata": {},
   "outputs": [],
   "source": [
    "# Python通常会按照被期望的方式去处理数据\n",
    "print(0.1 + 0.1)\n",
    "print(0.2 + 0.2)\n",
    "print(2 * 0.1)\n",
    "print(2 * 0.2)"
   ]
  },
  {
   "cell_type": "code",
   "execution_count": null,
   "metadata": {},
   "outputs": [],
   "source": [
    "# 包含的小数位数可能不确定\n",
    "print(0.2 + 0.1)\n",
    "print(3 * 0.1)"
   ]
  },
  {
   "cell_type": "markdown",
   "metadata": {},
   "source": [
    "### 2.4.3使用函数str()避免类型错误"
   ]
  },
  {
   "cell_type": "code",
   "execution_count": null,
   "metadata": {},
   "outputs": [],
   "source": [
    "age = 23\n",
    "message = \"Happy \" + str(age) + \"rd Birthday!\"\n",
    "\n",
    "print(message)"
   ]
  },
  {
   "cell_type": "markdown",
   "metadata": {},
   "source": [
    "### 2.4.4Python2中的整数"
   ]
  },
  {
   "cell_type": "code",
   "execution_count": null,
   "metadata": {},
   "outputs": [],
   "source": [
    "# 整数除法的结果只包含整数部分，小数部分被删除\n",
    "print(3 / 2)\n",
    "# 要避免上述情况，务必保证至少有一个操作数为浮点数\n",
    "print(3.0 / 2)\n",
    "print(3 / 2.0)\n",
    "print(3.0 / 2.0)"
   ]
  },
  {
   "cell_type": "markdown",
   "metadata": {},
   "source": [
    "## 2.5注释"
   ]
  },
  {
   "cell_type": "markdown",
   "metadata": {},
   "source": [
    "### 2.5.1如何编写注释"
   ]
  },
  {
   "cell_type": "code",
   "execution_count": null,
   "metadata": {},
   "outputs": [],
   "source": [
    "# 向大家问好\n",
    "print(\"Hello Python People!\")  #解释器将忽略上一行而执行这一行"
   ]
  },
  {
   "cell_type": "markdown",
   "metadata": {},
   "source": [
    "### 2.5.2该编写什么样的注释"
   ]
  },
  {
   "cell_type": "code",
   "execution_count": null,
   "metadata": {},
   "outputs": [],
   "source": [
    "# 编写注释的目的主要是阐述代码要做什么，以及是如何做的。\n",
    "# 在开发项目期间，你对各个部分如何协同工作了如指掌，但\n",
    "# 过段时间后，有些细节你可能不记得了。当然，你总是可以\n",
    "# 通过研究代码来确定各个部分的工作原理，但通过编写注释，\n",
    "# 以清晰的自然语言对解决方案进行概述，可节省很多时间。"
   ]
  },
  {
   "cell_type": "markdown",
   "metadata": {},
   "source": [
    "## 2.6Python之禅"
   ]
  },
  {
   "cell_type": "code",
   "execution_count": null,
   "metadata": {},
   "outputs": [],
   "source": [
    "import this"
   ]
  }
 ],
 "metadata": {
  "kernelspec": {
   "display_name": "Python [conda env:root] *",
   "language": "python",
   "name": "conda-root-py"
  },
  "language_info": {
   "codemirror_mode": {
    "name": "ipython",
    "version": 3
   },
   "file_extension": ".py",
   "mimetype": "text/x-python",
   "name": "python",
   "nbconvert_exporter": "python",
   "pygments_lexer": "ipython3",
   "version": "3.7.4"
  }
 },
 "nbformat": 4,
 "nbformat_minor": 2
}
